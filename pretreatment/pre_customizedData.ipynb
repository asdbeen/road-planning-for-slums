{
 "cells": [
  {
   "cell_type": "code",
   "execution_count": 12,
   "metadata": {},
   "outputs": [
    {
     "name": "stdout",
     "output_type": "stream",
     "text": [
      "td_init\n",
      "{Face with centroid at (3.24,2.85): 1.3042360777221762, Face with centroid at (4.26,2.05): 1.2561264958781337, Face with centroid at (3.36,2.82): 1.2756552379670012, Face with centroid at (2.88,2.59): 1.2549746993737951, Face with centroid at (4.08,2.07): 10000.0, Face with centroid at (3.62,2.79): 1.230695517129942, Face with centroid at (4.00,2.16): 10000.0, Face with centroid at (4.14,2.24): 1.355049342266991, Face with centroid at (3.00,2.56): 1.2739079573723315, Face with centroid at (3.98,2.75): 1.2004904966911576, Face with centroid at (4.20,2.14): 1.3433954177656358, Face with centroid at (3.15,2.63): 10000.0, Face with centroid at (4.07,2.36): 1.3504568391827554, Face with centroid at (3.11,2.52): 1.3034327055075292, Face with centroid at (3.50,2.80): 1.250791465361075, Face with centroid at (3.43,2.54): 10000.0, Face with centroid at (3.10,2.76): 10000.0, Face with centroid at (3.49,2.33): 1.351380558208521, Face with centroid at (3.20,2.73): 10000.0, Face with centroid at (3.03,2.67): 10000.0, Face with centroid at (3.33,2.70): 10000.0, Face with centroid at (3.29,2.60): 10000.0, Face with centroid at (3.88,2.05): 1.3129744939025332, Face with centroid at (4.00,2.60): 1.3050960177379753, Face with centroid at (2.93,2.72): 10000.0, Face with centroid at (2.82,2.76): 1.301198345687037, Face with centroid at (3.66,2.40): 10000.0, Face with centroid at (3.56,2.47): 10000.0, Face with centroid at (3.87,2.74): 1.2455060278333143, Face with centroid at (3.76,2.64): 10000.0, Face with centroid at (3.93,2.28): 10000.0, Face with centroid at (3.03,2.91): 1.2795994227991634, Face with centroid at (3.48,2.66): 10000.0, Face with centroid at (4.01,2.48): 1.3433847760870914, Face with centroid at (3.37,2.40): 1.3060582351526884, Face with centroid at (3.78,2.23): 10000.0, Face with centroid at (3.88,2.58): 10000.0, Face with centroid at (3.75,2.52): 10000.0, Face with centroid at (3.83,2.40): 10000.0, Face with centroid at (3.62,2.63): 10000.0, Face with centroid at (2.96,2.82): 1.3324632651855643}\n",
      "{Face with centroid at (3.24,2.85): 1.3042360777221762, Face with centroid at (4.26,2.05): 1.2561264958781337, Face with centroid at (3.36,2.82): 1.2756552379670012, Face with centroid at (2.88,2.59): 1.2549746993737951, Face with centroid at (4.08,2.07): 10000.0, Face with centroid at (3.62,2.79): 1.230695517129942, Face with centroid at (4.00,2.16): 10000.0, Face with centroid at (4.14,2.24): 1.355049342266991, Face with centroid at (3.00,2.56): 1.2739079573723315, Face with centroid at (3.98,2.75): 1.2004904966911576, Face with centroid at (4.20,2.14): 1.3433954177656358, Face with centroid at (3.15,2.63): 10000.0, Face with centroid at (4.07,2.36): 1.3504568391827554, Face with centroid at (3.11,2.52): 1.3034327055075292, Face with centroid at (3.50,2.80): 1.250791465361075, Face with centroid at (3.43,2.54): 10000.0, Face with centroid at (3.10,2.76): 10000.0, Face with centroid at (3.49,2.33): 1.351380558208521, Face with centroid at (3.20,2.73): 10000.0, Face with centroid at (3.03,2.67): 10000.0, Face with centroid at (3.33,2.70): 10000.0, Face with centroid at (3.29,2.60): 10000.0, Face with centroid at (3.88,2.05): 1.3129744939025332, Face with centroid at (4.00,2.60): 1.3050960177379753, Face with centroid at (2.93,2.72): 10000.0, Face with centroid at (2.82,2.76): 1.301198345687037, Face with centroid at (3.66,2.40): 10000.0, Face with centroid at (3.56,2.47): 10000.0, Face with centroid at (3.87,2.74): 1.2455060278333143, Face with centroid at (3.76,2.64): 10000.0, Face with centroid at (3.93,2.28): 10000.0, Face with centroid at (3.03,2.91): 1.2795994227991634, Face with centroid at (3.48,2.66): 10000.0, Face with centroid at (4.01,2.48): 1.3433847760870914, Face with centroid at (3.37,2.40): 1.3060582351526884, Face with centroid at (3.78,2.23): 10000.0, Face with centroid at (3.88,2.58): 10000.0, Face with centroid at (3.75,2.52): 10000.0, Face with centroid at (3.83,2.40): 10000.0, Face with centroid at (3.62,2.63): 10000.0, Face with centroid at (2.96,2.82): 1.3324632651855643}\n"
     ]
    }
   ],
   "source": [
    "import sys\n",
    "import os\n",
    "cwd = os.getcwd()\n",
    "sys.path.append(cwd) \n",
    "\n",
    "sys.path.append(\"/Users/chenzebin/Documents/GitHub/road-planning-for-slums\") \n",
    "    \n",
    "import json\n",
    "import numpy as np\n",
    "import pretreatment.my_graph as mg\n",
    "import pretreatment.my_graph_helpers as mgh\n",
    "import matplotlib.pyplot as plt\n",
    "from matplotlib.lines import Line2D\n",
    "from matplotlib.collections import LineCollection\n",
    "import networkx as nx\n",
    "import itertools\n",
    "import operator\n",
    "\n",
    "import copy\n",
    "import inspect\n",
    "import time\n",
    "\n",
    "import DebugAndPreview as DP\n",
    "########################################\n",
    "## Main Code\n",
    "########################################\n",
    "###### Import\n",
    "jsonPath = (\"/Users/chenzebin/Documents/GitHub/road-planning-for-slums/JSONInput/env1.json\") \n",
    "#jsonPath = r\"C:\\Users\\asdbe\\OneDrive\\Documents\\GitHub\\road-planning-for-slums\\JSONInput\\env1.json\"\n",
    "myG,myNodeDict,myEdgeDict = mgh.GraphFromJSON_Customized(jsonPath,scaleTag=True,new_min = 0,new_max = 5)\n",
    "\n",
    "\n",
    "###### Initialize info\n",
    "myG.define_roads_FirstTime()                 # Road\n",
    "myG.define_interior_parcels()                # Interior_Parcels\n",
    "\n",
    "###### Compute\n",
    "# Initial feature and property\n",
    "myG.feature_init()\n",
    "myG.td_dict_POI_Related_init()\n",
    "###### Save this original state to mg\n",
    "save_dir = \"/Users/chenzebin/Documents/GitHub/road-planning-for-slums/data\"\n",
    "#save_dir = r\"C:\\Users\\asdbe\\OneDrive\\Documents\\GitHub\\road-planning-for-slums\\data\"\n",
    "filename = \"punggol\"\n",
    "DP.SaveGraph_mg(myG,save_dir,filename)\n",
    "\n",
    "print (myG.td_dict_ave_faceToPOIEdge)\n",
    "\n",
    "\n",
    "# new_roads_i = mgh.build_all_roads(myG,\n",
    "#                                 myG, # ??\n",
    "#                                 alpha=2,\n",
    "#                                 wholepath=True,\n",
    "#                                 barriers=False,\n",
    "#                                 road_max=1,\n",
    "#                                 plot_intermediate=False,\n",
    "#                                 strict_greedy=True,\n",
    "#                                 vquiet=False,\n",
    "#                                 outsidein=True\n",
    "#                                 )\n",
    "# myG.plot_roads(parcel_labels=True)\n"
   ]
  },
  {
   "cell_type": "code",
   "execution_count": 9,
   "metadata": {},
   "outputs": [],
   "source": [
    "\n",
    "import os\n",
    "import pickle\n",
    "\n",
    "# Define the save directory and filename\n",
    "save_dir = r'C:\\Users\\asdbe\\OneDrive\\Documents\\GitHub\\road-planning-for-slums\\JSONInput'\n",
    "filename = 'tempFile'  # replace with your actual filename\n",
    "\n",
    "# Create the directory if it doesn't exist\n",
    "os.makedirs(save_dir, exist_ok=True)\n",
    "\n",
    "# Save the instance\n",
    "with open(os.path.join(save_dir, '{}.mg'.format(filename)), 'wb') as mgfile:\n",
    "    pickle.dump(myG, mgfile)\n",
    "\n"
   ]
  },
  {
   "cell_type": "code",
   "execution_count": 2,
   "metadata": {},
   "outputs": [],
   "source": [
    "import sys\n",
    "sys.path.append(r\"C:\\Users\\asdbe\\OneDrive\\Documents\\GitHub\\road-planning-for-slums\")\n",
    "\n",
    "import json\n",
    "import numpy as np\n",
    "import pretreatment.my_graph as mg\n",
    "import pretreatment.my_graph_helpers as mgh\n",
    "import matplotlib.pyplot as plt\n",
    "from matplotlib.lines import Line2D\n",
    "from matplotlib.collections import LineCollection\n",
    "import networkx as nx\n",
    "import itertools\n",
    "import operator\n",
    "\n",
    "import copy\n",
    "import inspect\n",
    "import os\n",
    "import pickle\n",
    "# Define the save directory and filename\n",
    "file_path = r'C:\\Users\\asdbe\\OneDrive\\Documents\\GitHub\\road-planning-for-slums\\JSONInput\\tempFile.mg'\n",
    "\n",
    "# Read the data\n",
    "with open(file_path, 'rb') as mgfile:\n",
    "    myG = pickle.load(mgfile)"
   ]
  },
  {
   "cell_type": "code",
   "execution_count": 3,
   "metadata": {},
   "outputs": [
    {
     "name": "stdout",
     "output_type": "stream",
     "text": [
      "max_road_steps 226.8\n"
     ]
    }
   ],
   "source": [
    "##################\n",
    "###### Get Road balances\n",
    "##################\n",
    "total_road_steps = len(myG.myedges()) - len(myG.road_edges)\n",
    "build_ration = 0.2\n",
    "max_road_steps = len(myG.road_edges) + build_ration * total_road_steps\n",
    "\n",
    "print (\"max_road_steps\",max_road_steps)"
   ]
  },
  {
   "cell_type": "code",
   "execution_count": 2,
   "metadata": {},
   "outputs": [],
   "source": [
    "##################\n",
    "###### F2F\n",
    "##################\n",
    "# PlotF2FDist(S0,vmin = 0,vmax = 5000)\n",
    "# optNum = 5\n",
    "# for i in range(optNum):  \n",
    "#     bisecting_roads = mgh.bisecting_road(S0)\n",
    "#     S0.plot_roads(parcel_labels=True)\n",
    "#     S0.PlotF2FDist(vmin = 0,vmax = 5000)\n",
    "\n"
   ]
  },
  {
   "cell_type": "code",
   "execution_count": null,
   "metadata": {},
   "outputs": [],
   "source": [
    "##################\n",
    "###### POI\n",
    "##################\n",
    "S0 = copy.deepcopy(myG)\n",
    "\n",
    "################ Loop by iteration ################\n",
    "optNum = 2\n",
    "\n",
    "S0.td_dict_POI_Related_init() \n",
    "#S0.PlotF2POIDist()\n",
    "time1 = time.time()\n",
    "for i in range(optNum): \n",
    "    mgh.bisecting_road_forPOI(S0)\n",
    "    S0.td_dict_POI_Related_init() \n",
    "    print (len(S0.road_edges))\n",
    "    #S0.plot_roads(parcel_labels=True)\n",
    "    #S0.PlotF2POIDist()\n",
    "\n",
    "\n",
    "################  Loop by road ration ################\n",
    "# while len(S0.road_edges) < max_road_steps:\n",
    "#     S0.td_dict_POI_Related_init() \n",
    "#     mgh.bisecting_road_forPOI(S0)\n",
    "#     print (len(S0.road_edges))\n",
    "#     S0.plot_roads(parcel_labels=True)\n",
    "#     # S0.PlotF2POIDist()"
   ]
  }
 ],
 "metadata": {
  "kernelspec": {
   "display_name": "roadplanning",
   "language": "python",
   "name": "python3"
  },
  "language_info": {
   "codemirror_mode": {
    "name": "ipython",
    "version": 3
   },
   "file_extension": ".py",
   "mimetype": "text/x-python",
   "name": "python",
   "nbconvert_exporter": "python",
   "pygments_lexer": "ipython3",
   "version": "3.11.8"
  }
 },
 "nbformat": 4,
 "nbformat_minor": 2
}
