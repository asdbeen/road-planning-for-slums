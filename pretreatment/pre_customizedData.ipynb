{
 "cells": [
  {
   "cell_type": "code",
   "execution_count": 1,
   "metadata": {},
   "outputs": [
    {
     "name": "stdout",
     "output_type": "stream",
     "text": [
      "td_init\n"
     ]
    }
   ],
   "source": [
    "import sys\n",
    "sys.path.append(r\"C:\\Users\\asdbe\\OneDrive\\Documents\\GitHub\\road-planning-for-slums\")\n",
    "\n",
    "import json\n",
    "import numpy as np\n",
    "import pretreatment.my_graph as mg\n",
    "import pretreatment.my_graph_helpers as mgh\n",
    "import matplotlib.pyplot as plt\n",
    "from matplotlib.lines import Line2D\n",
    "from matplotlib.collections import LineCollection\n",
    "import networkx as nx\n",
    "import itertools\n",
    "import operator\n",
    "\n",
    "import copy\n",
    "import inspect\n",
    "import time\n",
    "\n",
    "import DebugAndPreview as DP\n",
    "########################################\n",
    "## Main Code\n",
    "########################################\n",
    "###### Import\n",
    "jsonPath = r\"C:\\Users\\asdbe\\OneDrive\\Documents\\GitHub\\road-planning-for-slums\\JSONInput\\env1.json\"\n",
    "myG,myNodeDict,myEdgeDict = mgh.GraphFromJSON_Customized(jsonPath,scaleTag=True,new_min = 0,new_max = 5)\n",
    "\n",
    "\n",
    "###### Initialize info\n",
    "myG.define_roads_FirstTime()                 # Road\n",
    "myG.define_interior_parcels()                # Interior_Parcels\n",
    "\n",
    "###### Compute\n",
    "# Initial feature and property\n",
    "myG.feature_init()\n",
    "\n",
    "\n",
    "###### Save this original state to mg\n",
    "save_dir = r\"C:\\Users\\asdbe\\OneDrive\\Documents\\GitHub\\road-planning-for-slums\\data\"\n",
    "filename = \"punggol\"\n",
    "DP.SaveGraph_mg(myG,save_dir,filename)\n",
    "\n",
    "\n",
    "\n",
    "# new_roads_i = mgh.build_all_roads(myG,\n",
    "#                                 myG, # ??\n",
    "#                                 alpha=2,\n",
    "#                                 wholepath=True,\n",
    "#                                 barriers=False,\n",
    "#                                 road_max=1,\n",
    "#                                 plot_intermediate=False,\n",
    "#                                 strict_greedy=True,\n",
    "#                                 vquiet=False,\n",
    "#                                 outsidein=True\n",
    "#                                 )\n",
    "# myG.plot_roads(parcel_labels=True)\n"
   ]
  },
  {
   "cell_type": "code",
   "execution_count": 9,
   "metadata": {},
   "outputs": [],
   "source": [
    "\n",
    "import os\n",
    "import pickle\n",
    "\n",
    "# Define the save directory and filename\n",
    "save_dir = r'C:\\Users\\asdbe\\OneDrive\\Documents\\GitHub\\road-planning-for-slums\\JSONInput'\n",
    "filename = 'tempFile'  # replace with your actual filename\n",
    "\n",
    "# Create the directory if it doesn't exist\n",
    "os.makedirs(save_dir, exist_ok=True)\n",
    "\n",
    "# Save the instance\n",
    "with open(os.path.join(save_dir, '{}.mg'.format(filename)), 'wb') as mgfile:\n",
    "    pickle.dump(myG, mgfile)\n",
    "\n"
   ]
  },
  {
   "cell_type": "code",
   "execution_count": 2,
   "metadata": {},
   "outputs": [],
   "source": [
    "import sys\n",
    "sys.path.append(r\"C:\\Users\\asdbe\\OneDrive\\Documents\\GitHub\\road-planning-for-slums\")\n",
    "\n",
    "import json\n",
    "import numpy as np\n",
    "import pretreatment.my_graph as mg\n",
    "import pretreatment.my_graph_helpers as mgh\n",
    "import matplotlib.pyplot as plt\n",
    "from matplotlib.lines import Line2D\n",
    "from matplotlib.collections import LineCollection\n",
    "import networkx as nx\n",
    "import itertools\n",
    "import operator\n",
    "\n",
    "import copy\n",
    "import inspect\n",
    "import os\n",
    "import pickle\n",
    "# Define the save directory and filename\n",
    "file_path = r'C:\\Users\\asdbe\\OneDrive\\Documents\\GitHub\\road-planning-for-slums\\JSONInput\\tempFile.mg'\n",
    "\n",
    "# Read the data\n",
    "with open(file_path, 'rb') as mgfile:\n",
    "    myG = pickle.load(mgfile)"
   ]
  },
  {
   "cell_type": "code",
   "execution_count": 3,
   "metadata": {},
   "outputs": [
    {
     "name": "stdout",
     "output_type": "stream",
     "text": [
      "max_road_steps 226.8\n"
     ]
    }
   ],
   "source": [
    "##################\n",
    "###### Get Road balances\n",
    "##################\n",
    "total_road_steps = len(myG.myedges()) - len(myG.road_edges)\n",
    "build_ration = 0.2\n",
    "max_road_steps = len(myG.road_edges) + build_ration * total_road_steps\n",
    "\n",
    "print (\"max_road_steps\",max_road_steps)"
   ]
  },
  {
   "cell_type": "code",
   "execution_count": 2,
   "metadata": {},
   "outputs": [],
   "source": [
    "##################\n",
    "###### F2F\n",
    "##################\n",
    "# PlotF2FDist(S0,vmin = 0,vmax = 5000)\n",
    "# optNum = 5\n",
    "# for i in range(optNum):  \n",
    "#     bisecting_roads = mgh.bisecting_road(S0)\n",
    "#     S0.plot_roads(parcel_labels=True)\n",
    "#     S0.PlotF2FDist(vmin = 0,vmax = 5000)\n",
    "\n"
   ]
  },
  {
   "cell_type": "code",
   "execution_count": null,
   "metadata": {},
   "outputs": [],
   "source": [
    "##################\n",
    "###### POI\n",
    "##################\n",
    "S0 = copy.deepcopy(myG)\n",
    "\n",
    "################ Loop by iteration ################\n",
    "optNum = 2\n",
    "\n",
    "S0.td_dict_POI_Related_init() \n",
    "#S0.PlotF2POIDist()\n",
    "time1 = time.time()\n",
    "for i in range(optNum): \n",
    "    mgh.bisecting_road_forPOI(S0)\n",
    "    S0.td_dict_POI_Related_init() \n",
    "    print (len(S0.road_edges))\n",
    "    #S0.plot_roads(parcel_labels=True)\n",
    "    #S0.PlotF2POIDist()\n",
    "\n",
    "\n",
    "################  Loop by road ration ################\n",
    "# while len(S0.road_edges) < max_road_steps:\n",
    "#     S0.td_dict_POI_Related_init() \n",
    "#     mgh.bisecting_road_forPOI(S0)\n",
    "#     print (len(S0.road_edges))\n",
    "#     S0.plot_roads(parcel_labels=True)\n",
    "#     # S0.PlotF2POIDist()"
   ]
  }
 ],
 "metadata": {
  "kernelspec": {
   "display_name": "roadplanning",
   "language": "python",
   "name": "python3"
  },
  "language_info": {
   "codemirror_mode": {
    "name": "ipython",
    "version": 3
   },
   "file_extension": ".py",
   "mimetype": "text/x-python",
   "name": "python",
   "nbconvert_exporter": "python",
   "pygments_lexer": "ipython3",
   "version": "3.11.5"
  }
 },
 "nbformat": 4,
 "nbformat_minor": 2
}
