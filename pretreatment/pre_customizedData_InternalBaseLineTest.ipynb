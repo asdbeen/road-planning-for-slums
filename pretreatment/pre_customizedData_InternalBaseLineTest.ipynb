{
 "cells": [
  {
   "cell_type": "code",
   "execution_count": 5,
   "metadata": {},
   "outputs": [
    {
     "name": "stdout",
     "output_type": "stream",
     "text": [
      "0\n"
     ]
    }
   ],
   "source": [
    "import sys\n",
    "import os\n",
    "cwd = os.getcwd()\n",
    "sys.path.append(cwd) \n",
    "sys.path.append(\"/Users/chenzebin/Documents/GitHub/road-planning-for-slums\") \n",
    "\n",
    "import json\n",
    "import numpy as np\n",
    "import pretreatment.my_graph as mg\n",
    "import pretreatment.my_graph_helpers as mgh\n",
    "import matplotlib.pyplot as plt\n",
    "from matplotlib.lines import Line2D\n",
    "from matplotlib.collections import LineCollection\n",
    "import networkx as nx\n",
    "import itertools\n",
    "import operator\n",
    "\n",
    "import copy\n",
    "import inspect\n",
    "import time\n",
    "\n",
    "import DebugAndPreview as DP\n",
    "########################################\n",
    "## Main Code\n",
    "########################################\n",
    "jsonPath = (\"/Users/chenzebin/Documents/GitHub/road-planning-for-slums/JSONInput/punggol_1_withShortcut_withConfigAll_2diagonal_woCross.json\") \n",
    "\n",
    "myG,myNodeDict,myEdgeDict = mgh.GraphFromJSON_Customized_IgnoreShortCut(jsonPath,scaleTag=True,new_min = 0,new_max = 5)   # 5\n",
    "\n",
    "###### Initialize info\n",
    "myG.define_roads_FirstTime()                 # Road\n",
    "myG.define_interior_parcels()                # Interior_Parcels   ， in this case, it is None\n",
    "\n",
    "myG.AddShortCutInGraph()\n",
    "\n",
    "myG.td_dict_init()\n",
    "myG.feature_init()\n",
    "myG.td_dict_POI_Related_init()\n",
    "\n",
    "\n",
    "###### Save this original state to mg\n",
    "save_dir = \"/Users/chenzebin/Documents/GitHub/road-planning-for-slums/data\"\n",
    "#save_dir = r\"C:\\Users\\asdbe\\OneDrive\\Documents\\GitHub\\road-planning-for-slums\\data\"\n",
    "filename = \"punggol_1_withShortcut_withConfigAll_2diagonal_woCross\"\n",
    "DP.SaveGraph_mg(myG,save_dir,filename)\n",
    "\n",
    "print (len(myG.interior_parcels))\n"
   ]
  }
 ],
 "metadata": {
  "kernelspec": {
   "display_name": "roadplanning",
   "language": "python",
   "name": "python3"
  },
  "language_info": {
   "codemirror_mode": {
    "name": "ipython",
    "version": 3
   },
   "file_extension": ".py",
   "mimetype": "text/x-python",
   "name": "python",
   "nbconvert_exporter": "python",
   "pygments_lexer": "ipython3",
   "version": "3.11.8"
  }
 },
 "nbformat": 4,
 "nbformat_minor": 2
}
